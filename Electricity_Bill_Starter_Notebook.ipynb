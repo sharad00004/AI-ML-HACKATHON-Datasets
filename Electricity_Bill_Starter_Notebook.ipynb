{
 "cells": [
  {
   "cell_type": "markdown",
   "id": "9369e29c",
   "metadata": {},
   "source": [
    "# 🔌 Electricity Bill Prediction Starter Notebook\n",
    "\n",
    "This notebook is a starter template for building a Machine Learning model to predict monthly electricity bills based on appliance usage, city, company, and other metadata.\n",
    "\n",
    "Feel free to modify, extend, and improve it."
   ]
  },
  {
   "cell_type": "code",
   "execution_count": null,
   "id": "71996782",
   "metadata": {},
   "outputs": [],
   "source": [
    "# 📦 Step 1: Import necessary libraries\n",
    "import pandas as pd\n",
    "import numpy as np\n",
    "import matplotlib.pyplot as plt\n",
    "import seaborn as sns\n",
    "\n",
    "from sklearn.model_selection import train_test_split\n",
    "from sklearn.linear_model import LinearRegression\n",
    "from sklearn.ensemble import RandomForestRegressor\n",
    "from sklearn.metrics import mean_squared_error, r2_score\n"
   ]
  },
  {
   "cell_type": "code",
   "execution_count": null,
   "id": "93c19db1",
   "metadata": {},
   "outputs": [],
   "source": [
    "# 📥 Step 2: Load the dataset\n",
    "df = pd.read_csv(\"electricity_bill_dataset.csv\")\n",
    "df.head()"
   ]
  },
  {
   "cell_type": "code",
   "execution_count": null,
   "id": "de3febaa",
   "metadata": {},
   "outputs": [],
   "source": [
    "# 🔎 Step 3: Explore the dataset\n",
    "df.info()\n",
    "df.describe()"
   ]
  },
  {
   "cell_type": "code",
   "execution_count": null,
   "id": "d54209c9",
   "metadata": {},
   "outputs": [],
   "source": [
    "# ⚙️ Step 4: Encode categorical variables (City, Company)\n",
    "df['City'] = df['City'].astype('category').cat.codes\n",
    "df['Company'] = df['Company'].astype('category').cat.codes\n",
    "\n",
    "# Check for missing values\n",
    "print(df.isnull().sum())"
   ]
  },
  {
   "cell_type": "code",
   "execution_count": null,
   "id": "b1227934",
   "metadata": {},
   "outputs": [],
   "source": [
    "# 🔀 Step 5: Train-Test Split\n",
    "X = df.drop('ElectricityBill', axis=1)\n",
    "y = df['ElectricityBill']\n",
    "\n",
    "X_train, X_test, y_train, y_test = train_test_split(X, y, test_size=0.2, random_state=42)"
   ]
  },
  {
   "cell_type": "code",
   "execution_count": null,
   "id": "cb378f31",
   "metadata": {},
   "outputs": [],
   "source": [
    "# 🤖 Step 6: Train a Linear Regression model (optional baseline)\n",
    "model = LinearRegression()\n",
    "model.fit(X_train, y_train)\n",
    "\n",
    "y_pred = model.predict(X_test)"
   ]
  },
  {
   "cell_type": "code",
   "execution_count": null,
   "id": "5912753c",
   "metadata": {},
   "outputs": [],
   "source": [
    "# 📊 Step 7: Evaluate the model\n",
    "rmse = np.sqrt(mean_squared_error(y_test, y_pred))\n",
    "r2 = r2_score(y_test, y_pred)\n",
    "\n",
    "print(\"RMSE:\", rmse)\n",
    "print(\"R2 Score:\", r2)\n",
    "\n",
    "# Scatter plot\n",
    "plt.scatter(y_test, y_pred)\n",
    "plt.xlabel(\"Actual Bill\")\n",
    "plt.ylabel(\"Predicted Bill\")\n",
    "plt.title(\"Actual vs Predicted Electricity Bill\")\n",
    "plt.grid(True)\n",
    "plt.show()"
   ]
  }
 ],
 "metadata": {},
 "nbformat": 4,
 "nbformat_minor": 5
}
